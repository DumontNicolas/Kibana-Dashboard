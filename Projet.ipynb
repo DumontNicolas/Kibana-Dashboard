{
 "cells": [
  {
   "cell_type": "markdown",
   "id": "a830c83f",
   "metadata": {
    "scrolled": true
   },
   "source": [
    "# Projet Kibana\n",
    "*Nicolas Dumont & Julien Vion*\n",
    "\n",
    "Ici, nous éxecutons un script python qui nous permettra d'indexer notre fichier \"flights\" json sur un index spécifique."
   ]
  },
  {
   "cell_type": "code",
   "execution_count": null,
   "id": "96efca56",
   "metadata": {},
   "outputs": [],
   "source": [
    "import requests, json\n",
    "from elasticsearch import Elasticsearch, helpers\n",
    "\n",
    "es = Elasticsearch(['http://20.188.37.241:9200/'])\n",
    "\n",
    "with open(\"flights.json\") as file:\n",
    "    json_data = [json.loads(line) for line in file]\n",
    "\n",
    "helpers.bulk(es, json_data, index = \"nicolas_projet_kibana\", doc_type = \"_doc\")"
   ]
  }
 ],
 "metadata": {
  "kernelspec": {
   "display_name": "Python 3",
   "language": "python",
   "name": "python3"
  },
  "language_info": {
   "codemirror_mode": {
    "name": "ipython",
    "version": 3
   },
   "file_extension": ".py",
   "mimetype": "text/x-python",
   "name": "python",
   "nbconvert_exporter": "python",
   "pygments_lexer": "ipython3",
   "version": "3.8.8"
  }
 },
 "nbformat": 4,
 "nbformat_minor": 5
}
